{
 "cells": [
  {
   "cell_type": "markdown",
   "metadata": {},
   "source": [
    "###  1- Hello World"
   ]
  },
  {
   "cell_type": "markdown",
   "metadata": {},
   "source": [
    "Write a program that prints ```\"Hello World\"```. Don't use the notebook.\n",
    "* If you are working on your machine, use any text editor such as the simple Notepad or IDLE\n",
    "    * create a file called hello.py\n",
    "    * write the necessary code inside\n",
    "    * save the file\n",
    "    * open a command shell and change to the directory that contains the file\n",
    "    * run the file from the command line: ```python hello.py```\n",
    "    * watch ecstatically\n",
    "* If using a Binder or JupyterHub:\n",
    "    * click on new->terminal from the directory tab to open a terminal\n",
    "    * if necessary, in JupyterHub: change to the directory that contains the file\n",
    "    * type ```python hello.py``` to run the hello.py file provided\n",
    "    * watch ecstatically \n",
    "    * open the file from the directory page by clicking on it, modify it as suggested in Exercise 2 and save it\n",
    "    * try running it again\n",
    "\n",
    "If you get stuck, try doing this in a Binder - everything should just work out of the box."
   ]
  },
  {
   "cell_type": "markdown",
   "metadata": {},
   "source": [
    "### 2 - Proof of residence"
   ]
  },
  {
   "cell_type": "markdown",
   "metadata": {},
   "source": [
    "Modify your program so that it prints your name and address as you would on an envelope"
   ]
  },
  {
   "cell_type": "markdown",
   "metadata": {},
   "source": [
    "### 3 - Bugger off"
   ]
  },
  {
   "cell_type": "markdown",
   "metadata": {},
   "source": [
    "Write a program that asks for your name and insults you. From now on, I suggest you use the notebook - just click on the + sign in the toolbar to add a new code cell below this text if one isn't there already"
   ]
  },
  {
   "cell_type": "markdown",
   "metadata": {},
   "source": [
    "### 4 - Star Trek"
   ]
  },
  {
   "cell_type": "markdown",
   "metadata": {},
   "source": [
    "Write a program that asks you for a speed in km/h and converts it to furlongs/fortnight (ask Google for help with the conversion factor). Use it to convert the speed or light to furlongs/fortnight."
   ]
  },
  {
   "cell_type": "markdown",
   "metadata": {},
   "source": [
    "### 5 - The real deal"
   ]
  },
  {
   "cell_type": "markdown",
   "metadata": {},
   "source": [
    "Write a program that asks for the length and width of your average studio shoebox in meters. Multiply the area by 19500 to obtain its price in Kensington, in pounds. Store in a variable and print the result including units. \n",
    "\n",
    "Multiply the average UK salary of £26500 by 0.75 to deduce taxes. Divide the price by the net salary to obtain the number of man-years it takes the average bloke to pay for the average shoebox.  \n",
    "\n",
    "Print all results including units. Use meaningful variable names for all the parameters (salary, cost per square meters). Include comments."
   ]
  },
  {
   "cell_type": "markdown",
   "metadata": {},
   "source": [
    "### 6 - Happy birthday"
   ]
  },
  {
   "cell_type": "markdown",
   "metadata": {},
   "source": [
    "Now for something a bit more cheerful: write a program that asks you for your age and prints ```\"Happy Birthday\"``` once for each year. Use the ```*```operator on a string to do that."
   ]
  },
  {
   "cell_type": "markdown",
   "metadata": {},
   "source": [
    "### 7 - Operator madness"
   ]
  },
  {
   "cell_type": "markdown",
   "metadata": {},
   "source": [
    "Look up Python operators [here](http://www.tutorialspoint.com/python/python_basic_operators.htm). Try out all Arithmetic, Comparison, and Assignment operators in the cell below. Feel free to define variables, create more cells, write down notes and ask questions. Remember to save this notebook when you are done. NOTE: The \"not equal\" operator in Python 3 is ```!=```, ```<>``` no longer works."
   ]
  },
  {
   "cell_type": "code",
   "execution_count": null,
   "metadata": {},
   "outputs": [],
   "source": []
  },
  {
   "cell_type": "markdown",
   "metadata": {},
   "source": [
    "### 8 - Tea for You"
   ]
  },
  {
   "cell_type": "markdown",
   "metadata": {},
   "source": [
    "Write a program that replaces ```'U'``` with ```'T'``` in RNA sequences, making sure that it works whether the string is uppercase or lowercase and always outputs an uppercase string. Hint: to obtain help on, for instance, the ```str.replace()``` method type ```help(str.replace)``` in the cell below. Typing ```dir(str)``` will list all methods."
   ]
  },
  {
   "cell_type": "code",
   "execution_count": null,
   "metadata": {},
   "outputs": [],
   "source": []
  },
  {
   "cell_type": "markdown",
   "metadata": {},
   "source": [
    "### 9 - With complements"
   ]
  },
  {
   "cell_type": "markdown",
   "metadata": {},
   "source": [
    "This is stretching it a bit, but there is a way to use ```str.replace()``` to transform a DNA sequence into its complement. Can you do that? Write a program that asks you for a sequence and outputs the complement."
   ]
  },
  {
   "cell_type": "code",
   "execution_count": null,
   "metadata": {},
   "outputs": [],
   "source": []
  }
 ],
 "metadata": {
  "kernelspec": {
   "display_name": "Python 3",
   "language": "python",
   "name": "python3"
  },
  "language_info": {
   "codemirror_mode": {
    "name": "ipython",
    "version": 3
   },
   "file_extension": ".py",
   "mimetype": "text/x-python",
   "name": "python",
   "nbconvert_exporter": "python",
   "pygments_lexer": "ipython3",
   "version": "3.6.9"
  }
 },
 "nbformat": 4,
 "nbformat_minor": 1
}
